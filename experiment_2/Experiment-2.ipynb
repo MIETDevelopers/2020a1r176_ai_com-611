{
 "cells": [
  {
   "cell_type": "raw",
   "id": "36d7177e",
   "metadata": {},
   "source": [
    "Experiment-2\n",
    "for a given set of training data example stored in csv file ,implement and demostrate the data visualization to output a discirption of the set of all hypotheses consistent with traning example"
   ]
  },
  {
   "cell_type": "raw",
   "id": "497c5332",
   "metadata": {},
   "source": []
  },
  {
   "cell_type": "code",
   "execution_count": 23,
   "id": "33189e8c",
   "metadata": {},
   "outputs": [],
   "source": [
    "import numpy as np\n",
    "import pandas as pd"
   ]
  },
  {
   "cell_type": "code",
   "execution_count": 35,
   "id": "ecfdc0cc",
   "metadata": {
    "scrolled": true
   },
   "outputs": [
    {
     "name": "stdout",
     "output_type": "stream",
     "text": [
      "   Age   Gender Blood Pressure Cholesterol Level      Label\n",
      "0    20    Male           High              High   Positive\n",
      "1    45  Female         Normal              High  Positive \n",
      "2    35    Male            Low               Low   Negative\n",
      "3    50  Female           High            Normal   Positive\n",
      "4    30    Male         Normal               Low   Negative\n"
     ]
    }
   ],
   "source": [
    "data=pd.DataFrame(data=pd.read_csv('D:\\data.csv'))\n",
    "print(data)"
   ]
  },
  {
   "cell_type": "code",
   "execution_count": 36,
   "id": "f86a21bd",
   "metadata": {},
   "outputs": [
    {
     "name": "stdout",
     "output_type": "stream",
     "text": [
      "[[20 'Male' 'High' 'High']\n",
      " [45 'Female' 'Normal' 'High']\n",
      " [35 'Male' 'Low' 'Low']\n",
      " [50 'Female' 'High' 'Normal']\n",
      " [30 'Male' 'Normal' 'Low']]\n"
     ]
    }
   ],
   "source": [
    "concepts =np.array(data.iloc[:,0:-1])\n",
    "print(concepts)"
   ]
  },
  {
   "cell_type": "code",
   "execution_count": 37,
   "id": "b41b7e58",
   "metadata": {},
   "outputs": [
    {
     "name": "stdout",
     "output_type": "stream",
     "text": [
      "['Positive' 'Positive ' 'Negative' 'Positive' 'Negative']\n"
     ]
    }
   ],
   "source": [
    "target=np.array(data.iloc[:,-1])\n",
    "print(target)"
   ]
  },
  {
   "cell_type": "code",
   "execution_count": 40,
   "id": "0a84db19",
   "metadata": {},
   "outputs": [],
   "source": [
    "def learn(concepts,targets):\n",
    "    specific_h=concepts[0].copy()\n",
    "    print(\"\\nInitialization of specific_h and general_h\")\n",
    "    print(specific_h)\n",
    "    general_h=[[\"?\" for i in range(len(specific_h))] for i in range(len(specific_h))]\n",
    "    print(general_h)\n",
    "    for i,h in enumerate(concepts):\n",
    "        if target[i] == \"Positive\":\n",
    "            for x in range(len(specific_h)):\n",
    "                if h[x] != specific_h[x]:\n",
    "                    specific_h[x]='?'\n",
    "                    general_h[x][x]='?'\n",
    "        if target[i]==\"Negative\":\n",
    "            for x in range(len(specific_h)):\n",
    "                if h[x] != specific_h[x]:\n",
    "                    general_h[x][x]=specific_h[x]\n",
    "                else:\n",
    "                    general_h[x][x]= '?'\n",
    "        print(\"\\nSteps of candidate Elimination algorithm\",i+1)\n",
    "        print(specific_h)\n",
    "        print(general_h)\n",
    "    indices =[i for i,val in enumerate(general_h) if val == ['?','?','?','?','?']]\n",
    "    for i in indices:\n",
    "        general_h.remove(['?','?','?','?','?'])\n",
    "    return specific_h,general_h\n"
   ]
  },
  {
   "cell_type": "code",
   "execution_count": 42,
   "id": "e0e00c1a",
   "metadata": {},
   "outputs": [
    {
     "name": "stdout",
     "output_type": "stream",
     "text": [
      "\n",
      "Initialization of specific_h and general_h\n",
      "[20 'Male' 'High' 'High']\n",
      "[['?', '?', '?', '?'], ['?', '?', '?', '?'], ['?', '?', '?', '?'], ['?', '?', '?', '?']]\n",
      "\n",
      "Steps of candidate Elimination algorithm 1\n",
      "[20 'Male' 'High' 'High']\n",
      "[['?', '?', '?', '?'], ['?', '?', '?', '?'], ['?', '?', '?', '?'], ['?', '?', '?', '?']]\n",
      "\n",
      "Steps of candidate Elimination algorithm 2\n",
      "[20 'Male' 'High' 'High']\n",
      "[['?', '?', '?', '?'], ['?', '?', '?', '?'], ['?', '?', '?', '?'], ['?', '?', '?', '?']]\n",
      "\n",
      "Steps of candidate Elimination algorithm 3\n",
      "[20 'Male' 'High' 'High']\n",
      "[[20, '?', '?', '?'], ['?', '?', '?', '?'], ['?', '?', 'High', '?'], ['?', '?', '?', 'High']]\n",
      "\n",
      "Steps of candidate Elimination algorithm 4\n",
      "['?' '?' 'High' '?']\n",
      "[['?', '?', '?', '?'], ['?', '?', '?', '?'], ['?', '?', 'High', '?'], ['?', '?', '?', '?']]\n",
      "\n",
      "Steps of candidate Elimination algorithm 5\n",
      "['?' '?' 'High' '?']\n",
      "[['?', '?', '?', '?'], ['?', '?', '?', '?'], ['?', '?', 'High', '?'], ['?', '?', '?', '?']]\n",
      "\n",
      "final  specific_h:\n",
      "['?' '?' 'High' '?']\n",
      "\n",
      "final general_h:\n",
      "[['?', '?', '?', '?'], ['?', '?', '?', '?'], ['?', '?', 'High', '?'], ['?', '?', '?', '?']]\n"
     ]
    }
   ],
   "source": [
    "s_final,g_final = learn(concepts,target)\n",
    "print(\"\\nfinal  specific_h:\",s_final,sep=\"\\n\")\n",
    "print(\"\\nfinal general_h:\",g_final,sep=\"\\n\")"
   ]
  },
  {
   "cell_type": "code",
   "execution_count": null,
   "id": "e7b694ab",
   "metadata": {},
   "outputs": [],
   "source": []
  }
 ],
 "metadata": {
  "kernelspec": {
   "display_name": "Python 3 (ipykernel)",
   "language": "python",
   "name": "python3"
  },
  "language_info": {
   "codemirror_mode": {
    "name": "ipython",
    "version": 3
   },
   "file_extension": ".py",
   "mimetype": "text/x-python",
   "name": "python",
   "nbconvert_exporter": "python",
   "pygments_lexer": "ipython3",
   "version": "3.10.5"
  }
 },
 "nbformat": 4,
 "nbformat_minor": 5
}
