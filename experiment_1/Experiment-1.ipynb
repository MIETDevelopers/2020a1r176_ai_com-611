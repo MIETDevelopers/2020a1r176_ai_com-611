{
 "cells": [
  {
   "cell_type": "markdown",
   "id": "098f4730",
   "metadata": {},
   "source": [
    "# Find s-Algorithm"
   ]
  },
  {
   "cell_type": "raw",
   "id": "1262631a",
   "metadata": {},
   "source": [
    "Experiment -1\n",
    "\n",
    "implement and demonstrate the data processing for finding  the most specific hypothesis based on a given set of training data Samples.\n",
    "Read the traning data from a.csv"
   ]
  },
  {
   "cell_type": "code",
   "execution_count": 3,
   "id": "6181b4b5",
   "metadata": {},
   "outputs": [
    {
     "name": "stdout",
     "output_type": "stream",
     "text": [
      "\n",
      " The Given Training Data Set\n",
      "\n",
      "['Sunny', 'Warm', 'Normal', 'Strong', 'Warm', 'Same', 'Yes']\n",
      "['Sunny', 'Warm', 'High', 'Strong', 'Warm', 'Same', 'Yes']\n",
      "['Rainy', 'Cold', 'High', 'Strong', 'Warm', 'Change', 'No']\n",
      "['Sunny', 'Warm', 'High', 'Strong', 'Cool', 'Change', 'Yes']\n",
      "\n",
      " The initial value of hypothesis:\n",
      "['0', '0', '0', '0', '0', '0']\n",
      "\n",
      " Find S: Finding a Maximally Specific Hypothesis\n",
      "\n",
      "for Traning instance No:{0} the hypothesis is 0 ['Sunny', 'Warm', 'Normal', 'Strong', 'Warm', 'Same']\n",
      "for Traning instance No:{0} the hypothesis is 1 ['Sunny', 'Warm', '?', 'Strong', 'Warm', 'Same']\n",
      "for Traning instance No:{0} the hypothesis is 2 ['Sunny', 'Warm', '?', 'Strong', 'Warm', 'Same']\n",
      "for Traning instance No:{0} the hypothesis is 3 ['Sunny', 'Warm', '?', 'Strong', '?', '?']\n",
      "\the maximally specific hypothesis for a given traning example:\n",
      "\n",
      "['Sunny', 'Warm', '?', 'Strong', '?', '?']\n"
     ]
    }
   ],
   "source": [
    "import  csv\n",
    "num_attributes=6\n",
    "a=[]\n",
    "print(\"\\n The Given Training Data Set\\n\")\n",
    "with open('D:\\project.csv','r') as csvfile:\n",
    "    reader=csv.reader(csvfile)\n",
    "    for row in reader:\n",
    "        a.append(row)\n",
    "        print(row)\n",
    "print(\"\\n The initial value of hypothesis:\")\n",
    "hypothesis=['0']*num_attributes\n",
    "print(hypothesis)\n",
    "\n",
    "for j in range(0,num_attributes):\n",
    "    hypothesis[j]=a[0][j];\n",
    "print(\"\\n Find S: Finding a Maximally Specific Hypothesis\\n\")\n",
    "for i in range(0,len(a)):\n",
    "    if a[i][num_attributes]=='Yes':\n",
    "        for j in range(0,num_attributes):\n",
    "            if a[i][j]!=hypothesis[j]:\n",
    "                hypothesis[j]='?'\n",
    "            else:\n",
    "                hypothesis[j]=a[i][j]\n",
    "    print(\"for Traning instance No:{0} the hypothesis is\",format(i),hypothesis)\n",
    "print(\"\\the maximally specific hypothesis for a given traning example:\\n\")\n",
    "print(hypothesis)"
   ]
  },
  {
   "cell_type": "code",
   "execution_count": null,
   "id": "89d8b3d9",
   "metadata": {},
   "outputs": [],
   "source": []
  }
 ],
 "metadata": {
  "kernelspec": {
   "display_name": "Python 3 (ipykernel)",
   "language": "python",
   "name": "python3"
  },
  "language_info": {
   "codemirror_mode": {
    "name": "ipython",
    "version": 3
   },
   "file_extension": ".py",
   "mimetype": "text/x-python",
   "name": "python",
   "nbconvert_exporter": "python",
   "pygments_lexer": "ipython3",
   "version": "3.10.5"
  }
 },
 "nbformat": 4,
 "nbformat_minor": 5
}
